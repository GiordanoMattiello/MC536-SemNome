{
 "cells": [
  {
   "cell_type": "markdown",
   "metadata": {},
   "source": [
    "## Modelo conceitual\n",
    "![Modelo conceitual](https://raw.githubusercontent.com/danielamorais/banco-de-dados-notas/master/Trabalho1-ModelagemV3.png)"
   ]
  },
  {
   "cell_type": "markdown",
   "metadata": {},
   "source": [
    "## Modelo lógico\n",
    "\n",
    "paciente(id, respostaTratamento)\n",
    "\n",
    "quadroInicial(idQuadro, idPaciente, idVirus, cd4Count, viralLoad)\n",
    "\n",
    "As chaves estrangeiras são: \n",
    "\n",
    "idPaciente -> paciente.id\n",
    "\n",
    "idVirus -> virus.id\n",
    "\n",
    "virus(id, prSequnce, rtSequence)"
   ]
  },
  {
   "cell_type": "code",
   "execution_count": 1,
   "metadata": {},
   "outputs": [],
   "source": [
    "%defaultDatasource jdbc:h2:mem:db"
   ]
  },
  {
   "cell_type": "code",
   "execution_count": 126,
   "metadata": {},
   "outputs": [],
   "source": [
    "DROP TABLE IF EXISTS paciente;\n",
    "DROP TABLE IF EXISTS quadroInicial;\n",
    "DROP TABLE IF EXISTS virus;\n",
    "DROP SEQUENCE IF EXISTS quadroInicial_seq;\n",
    "DROP SEQUENCE IF EXISTS virus_seq;"
   ]
  },
  {
   "cell_type": "code",
   "execution_count": 127,
   "metadata": {},
   "outputs": [],
   "source": [
    "CREATE TABLE paciente (\n",
    "  id VARCHAR(4) NOT NULL,\n",
    "  respostaTratamento INTEGER,\n",
    "  PRIMARY KEY(id)\n",
    ") AS SELECT\n",
    "    PatientID,\n",
    "    Resp\n",
    "FROM CSVREAD('../data/training_data.csv');"
   ]
  },
  {
   "cell_type": "code",
   "execution_count": 128,
   "metadata": {},
   "outputs": [],
   "source": [
    "ALTER TABLE paciente\n",
    "ADD reagiuTratamento boolean; "
   ]
  },
  {
   "cell_type": "code",
   "execution_count": 129,
   "metadata": {},
   "outputs": [],
   "source": [
    "UPDATE paciente SET reagiuTratamento=TRUE WHERE respostaTratamento=1;\n",
    "UPDATE paciente SET reagiuTratamento=FALSE WHERE respostaTratamento=0;"
   ]
  },
  {
   "cell_type": "code",
   "execution_count": 130,
   "metadata": {},
   "outputs": [],
   "source": [
    "ALTER TABLE paciente\n",
    "DROP COLUMN respostaTratamento; \n",
    "\n",
    "ALTER TABLE paciente RENAME COLUMN reagiuTratamento TO respostaTratamento;"
   ]
  },
  {
   "cell_type": "code",
   "execution_count": 131,
   "metadata": {},
   "outputs": [],
   "source": [
    "CREATE SEQUENCE virus_seq; \n",
    "\n",
    "CREATE TABLE virus (\n",
    "  id BIGINT default virus_seq.nextval primary key,\n",
    "  prSequence VARCHAR(2000),\n",
    "  rtSequence VARCHAR(2000),  \n",
    "  PRIMARY KEY(id)\n",
    ") AS SELECT\n",
    "    virus_seq.nextval,\n",
    "    \"PR Seq\",\n",
    "    \"RT Seq\"\n",
    "FROM CSVREAD('../data/training_data.csv');"
   ]
  },
  {
   "cell_type": "code",
   "execution_count": 132,
   "metadata": {},
   "outputs": [],
   "source": [
    "CREATE SEQUENCE quadroInicial_seq; \n",
    "\n",
    "CREATE TABLE quadroInicial (\n",
    "  id BIGINT default quadroInicial_seq.nextval primary key,\n",
    "  cd4Count DOUBLE,\n",
    "  viralLoad DOUBLE,  \n",
    "  idPaciente VARCHAR(4) NOT NULL,\n",
    "  idVirus BIGINT,\n",
    "  FOREIGN KEY (idPaciente) REFERENCES paciente(id),  \n",
    "  FOREIGN KEY (idVirus) REFERENCES virus(id),  \n",
    "  PRIMARY KEY(id)\n",
    ") AS SELECT\n",
    "    quadroInicial_seq.nextval,\n",
    "    cd4,\n",
    "    vl,\n",
    "    PatientID,\n",
    "    PatientID\n",
    "FROM CSVREAD('../data/training_data.csv');"
   ]
  },
  {
   "cell_type": "code",
   "execution_count": 133,
   "metadata": {},
   "outputs": [],
   "source": [
    "SELECT * FROM (SELECT count(*) AS c FROM virus GROUP BY rtSequence, prSequence) n WHERE n.c >= 2 --Buscar por vírus que possuem rtSequence e prSequence iguais"
   ]
  },
  {
   "cell_type": "code",
   "execution_count": 134,
   "metadata": {},
   "outputs": [
    {
     "data": {
      "text/plain": [
       "89"
      ]
     },
     "execution_count": 134,
     "metadata": {},
     "output_type": "execute_result"
    }
   ],
   "source": [
    "SELECT COUNT(q.idPaciente) FROM QuadroInicial q WHERE cd4Count < 50 --Buscar por pacientes que possuem cd4 menor que 50"
   ]
  },
  {
   "cell_type": "code",
   "execution_count": 136,
   "metadata": {},
   "outputs": [
    {
     "data": {
      "text/plain": [
       "35"
      ]
     },
     "execution_count": 136,
     "metadata": {},
     "output_type": "execute_result"
    }
   ],
   "source": [
    "SELECT COUNT(Q.IdPaciente) FROM QuadroInicial Q,Paciente P WHERE cd4Count < 50 AND P.Id= Q.IdPaciente AND RespostaTratamento = true --Buscar por pacientes que possuem cd4 menor que 50 que reagiram bem ao tratamento"
   ]
  },
  {
   "cell_type": "code",
   "execution_count": 141,
   "metadata": {},
   "outputs": [
    {
     "data": {
      "text/plain": [
       "575.0"
      ]
     },
     "execution_count": 141,
     "metadata": {},
     "output_type": "execute_result"
    }
   ],
   "source": [
    "SELECT MAX(Q.viralLoad) FROM QuadroInicial Q, Paciente P WHERE Q.IdPaciente = P.Id AND P.RespostaTratamento = true; --A carga viral máxima de uma pessoa que teve sucesso no tratamento"
   ]
  },
  {
   "cell_type": "code",
   "execution_count": 139,
   "metadata": {},
   "outputs": [
    {
     "data": {
      "text/plain": [
       "2.9"
      ]
     },
     "execution_count": 139,
     "metadata": {},
     "output_type": "execute_result"
    }
   ],
   "source": [
    "SELECT MIN(Q.viralLoad) FROM QuadroInicial Q, Paciente P WHERE Q.IdPaciente = P.Id AND P.RespostaTratamento = true; --A carga cd4 mínima de uma pessoa que teve sucesso no tratamento "
   ]
  },
  {
   "cell_type": "code",
   "execution_count": null,
   "metadata": {},
   "outputs": [],
   "source": []
  }
 ],
 "metadata": {
  "kernelspec": {
   "display_name": "SQL",
   "language": "SQL",
   "name": "sql"
  },
  "language_info": {
   "codemirror_mode": "sql",
   "file_extension": ".sql",
   "mimetype": "",
   "name": "SQL",
   "nbconverter_exporter": "",
   "version": ""
  },
  "toc": {
   "base_numbering": 1,
   "nav_menu": {},
   "number_sections": false,
   "sideBar": false,
   "skip_h1_title": false,
   "title_cell": "Table of Contents",
   "title_sidebar": "Contents",
   "toc_cell": false,
   "toc_position": {},
   "toc_section_display": false,
   "toc_window_display": false
  }
 },
 "nbformat": 4,
 "nbformat_minor": 2
}
