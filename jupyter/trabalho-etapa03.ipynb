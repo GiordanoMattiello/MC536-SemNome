{
 "cells": [
  {
   "cell_type": "markdown",
   "metadata": {},
   "source": [
    "## Modelo conceitual\n",
    "![Modelo conceitual](https://raw.githubusercontent.com/danielamorais/banco-de-dados-notas/master/Trabalho1-ModelagemV3(1).png)\n"
   ]
  },
  {
   "cell_type": "markdown",
   "metadata": {},
   "source": [
    "## Modelo lógico\n",
    "\n",
    "![Modelo lógico](https://raw.githubusercontent.com/danielamorais/banco-de-dados-notas/master/Trabalho1-ModelagemV3-Grafos.png)\n"
   ]
  },
  {
   "cell_type": "markdown",
   "metadata": {},
   "source": [
    "## Queries Cypher"
   ]
  },
  {
   "cell_type": "code",
   "execution_count": null,
   "metadata": {},
   "outputs": [],
   "source": [
    "MATCH (v:Virus)-[s:Similaridade]->(v2:Virus) RETURN v,v2 ORDER BY toInteger(s.rtscore) DESC LIMIT 1 --Seleciona o maior rtScore \n",
    "\n",
    "MATCH (v:Virus)-[s:Similaridade]->(v2:Virus) RETURN v,v2 ORDER BY toInteger(s.prscore) DESC LIMIT 1 --Seleciona o maior prScore\n",
    "\n",
    "MATCH (v:Virus)-[s:Similaridade]->(v2:Virus) WHERE toInteger(s.rtscore) > 950 RETURN v,v2 --Seleciona as Similaridades com valor de rtScore maior que 950\n",
    "\n",
    "MATCH (v:Virus)-[s:Similaridade]->(v2:Virus) WHERE toInteger(v.cd4) < 50 AND toInteger(v2.cd4) < 50 RETURN v,v2 --Busca por Similaridades entre virus em com cd4 menores que 50\n",
    "\n",
    "MATCH (v:Virus)-[s:Similaridade]->(v2:Virus) RETURN avg(toInteger(s.rtscore)),avg(toInteger(s.prscore)) --Faz a media dos rtScore"
   ]
  }
 ],
 "metadata": {
  "kernelspec": {
   "display_name": "SQL",
   "language": "SQL",
   "name": "sql"
  },
  "language_info": {
   "codemirror_mode": "sql",
   "file_extension": ".sql",
   "mimetype": "",
   "name": "SQL",
   "nbconverter_exporter": "",
   "version": ""
  },
  "toc": {
   "base_numbering": 1,
   "nav_menu": {},
   "number_sections": false,
   "sideBar": false,
   "skip_h1_title": false,
   "title_cell": "Table of Contents",
   "title_sidebar": "Contents",
   "toc_cell": false,
   "toc_position": {},
   "toc_section_display": false,
   "toc_window_display": false
  }
 },
 "nbformat": 4,
 "nbformat_minor": 2
}
