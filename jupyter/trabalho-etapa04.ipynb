{
 "cells": [
  {
   "cell_type": "markdown",
   "metadata": {},
   "source": [
    "# Consultas SPARQL"
   ]
  },
  {
   "cell_type": "markdown",
   "metadata": {},
   "source": [
    "## Modelo Conceitual\n"
   ]
  },
  {
   "cell_type": "markdown",
   "metadata": {},
   "source": [
    "![Modelo Conceitual](https://raw.githubusercontent.com/danielamorais/banco-de-dados-notas/master/modelo_con.png)"
   ]
  },
  {
   "cell_type": "markdown",
   "metadata": {},
   "source": [
    "## Modelo Logico XML"
   ]
  },
  {
   "cell_type": "markdown",
   "metadata": {},
   "source": [
    "![Modelo Lógico XML](https://raw.githubusercontent.com/danielamorais/banco-de-dados-notas/master/modelo_xml.png)"
   ]
  },
  {
   "cell_type": "code",
   "execution_count": null,
   "metadata": {},
   "outputs": [],
   "source": [
    "%endpoint http://id.nlm.nih.gov/mesh/sparql\n",
    "%display table\n",
    "%show all\n",
    "\n",
    "## Obter todos os tipos de infecções HIV\n",
    "PREFIX rdf: <http://www.w3.org/1999/02/22-rdf-syntax-ns#>\n",
    "PREFIX rdfs: <http://www.w3.org/2000/01/rdf-schema#>\n",
    "PREFIX xsd: <http://www.w3.org/2001/XMLSchema#>\n",
    "PREFIX owl: <http://www.w3.org/2002/07/owl#>\n",
    "PREFIX meshv: <http://id.nlm.nih.gov/mesh/vocab#>\n",
    "PREFIX mesh: <http://id.nlm.nih.gov/mesh/>\n",
    "PREFIX mesh2015: <http://id.nlm.nih.gov/mesh/2015/>\n",
    "PREFIX mesh2016: <http://id.nlm.nih.gov/mesh/2016/>\n",
    "PREFIX mesh2017: <http://id.nlm.nih.gov/mesh/2017/>\n",
    "\n",
    " SELECT DISTINCT ?descriptor ?label\n",
    " FROM <http://id.nlm.nih.gov/mesh>\n",
    "\n",
    " WHERE {\n",
    "   mesh:D015658 meshv:treeNumber ?treeNum .\n",
    "   ?childTreeNum meshv:parentTreeNumber+ ?treeNum .\n",
    "   ?descriptor meshv:treeNumber ?childTreeNum .\n",
    "   ?descriptor rdfs:label ?label .\n",
    " }\n",
    " \n",
    " ORDER BY ?label\n",
    "LIMIT 10"
   ]
  },
  {
   "cell_type": "code",
   "execution_count": 5,
   "metadata": {},
   "outputs": [
    {
     "data": {
      "text/html": [
       "<div class=\"krn-spql\"><table><tr class=hdr><th>descriptor</th>\n",
       "<th>label</th></tr><tr class=odd><td class=val><a href=\"http://id.nlm.nih.gov/mesh/D003218\" target=\"_other\">http://id.nlm.nih.gov/mesh/D003218</a></td>\n",
       "<td class=val>Condylomata Acuminata</td></tr><tr class=even><td class=val><a href=\"http://id.nlm.nih.gov/mesh/D015658\" target=\"_other\">http://id.nlm.nih.gov/mesh/D015658</a></td>\n",
       "<td class=val>HIV Infections</td></tr><tr class=odd><td class=val><a href=\"http://id.nlm.nih.gov/mesh/D006558\" target=\"_other\">http://id.nlm.nih.gov/mesh/D006558</a></td>\n",
       "<td class=val>Herpes Genitalis</td></tr></table><div class=\"tinfo\">Total: 3, Shown: 3</div></div>"
      ]
     },
     "metadata": {},
     "output_type": "display_data"
    }
   ],
   "source": [
    "## Obter todos os tipos de doenças sexualmente transmissíveis \n",
    "PREFIX rdf: <http://www.w3.org/1999/02/22-rdf-syntax-ns#>\n",
    "PREFIX rdfs: <http://www.w3.org/2000/01/rdf-schema#>\n",
    "PREFIX xsd: <http://www.w3.org/2001/XMLSchema#>\n",
    "PREFIX owl: <http://www.w3.org/2002/07/owl#>\n",
    "PREFIX meshv: <http://id.nlm.nih.gov/mesh/vocab#>\n",
    "PREFIX mesh: <http://id.nlm.nih.gov/mesh/>\n",
    "PREFIX mesh2015: <http://id.nlm.nih.gov/mesh/2015/>\n",
    "PREFIX mesh2016: <http://id.nlm.nih.gov/mesh/2016/>\n",
    "PREFIX mesh2017: <http://id.nlm.nih.gov/mesh/2017/>\n",
    "\n",
    "SELECT DISTINCT ?descriptor ?label \n",
    "FROM <http://id.nlm.nih.gov/mesh>\n",
    "\n",
    "WHERE {\n",
    "    ?descriptor rdfs:label ?label .\n",
    "    ?descriptor meshv:broaderDescriptor mesh:D015229\n",
    "}\n",
    "\n",
    "ORDER BY ?label\n"
   ]
  },
  {
   "cell_type": "code",
   "execution_count": 7,
   "metadata": {},
   "outputs": [
    {
     "data": {
      "text/html": [
       "<div class=\"krn-spql\"><table><tr class=hdr><th>label</th>\n",
       "<th>annotation</th></tr><tr class=odd><td class=val>AIDS Dementia Complex</td>\n",
       "<td class=val>coord IM with HIV-1 or HIV-2 (IM or NIM) if pertinent</td></tr><tr class=even><td class=val>AIDS-Associated Nephropathy</td>\n",
       "<td class=val>coord IM with specific kidney dis (IM); specify HIV-1 or HIV-2 (IM or NIM) if pertinent; DF: HIVAN</td></tr><tr class=odd><td class=val>AIDS-Related Complex</td>\n",
       "<td class=val>coordinate with HIV-1 or HIV-2 if pertinent</td></tr><tr class=even><td class=val>AIDS-Related Opportunistic Infections</td>\n",
       "<td class=val>coord IM with HIV-1 or HIV-2 (IM or NIM if pertinent); coord IM with specific opportunistic infect (IM); DF: AIDS RELAT OPPORTUNISTIC INFECT</td></tr><tr class=odd><td class=val>Acquired Immunodeficiency Syndrome</td>\n",
       "<td class=val>caused by HIV; coord IM with HIV-1 or HIV-2 (IM) if pertinent; /epidemiol: consider also HIV SEROPREVALENCE; AIDS-RELATED OPPORTUNISTIC INFECTIONS is available if particularly discussed: see note there; for lymphoma with AIDS, use LYMPHOMA, AIDS-RELATED</td></tr><tr class=even><td class=val>HIV Seropositivity</td>\n",
       "<td class=val>note category; HIV SERONEGATIVITY (Cat G) is also available; /diag /immunol permitted but use caution; coord IM with HIV-1 /immunol (IM) or HIV-2 /immunol (IM); do not confuse with HIV SEROPREVALENCE, an epidemiol concept; DF: HIV SEROPOS</td></tr></table><div class=\"tinfo\">Total: 6, Shown: 6</div></div>"
      ]
     },
     "metadata": {},
     "output_type": "display_data"
    }
   ],
   "source": [
    "## Obter todas as annotations das infecções HIV\n",
    "PREFIX rdf: <http://www.w3.org/1999/02/22-rdf-syntax-ns#>\n",
    "PREFIX rdfs: <http://www.w3.org/2000/01/rdf-schema#>\n",
    "PREFIX xsd: <http://www.w3.org/2001/XMLSchema#>\n",
    "PREFIX owl: <http://www.w3.org/2002/07/owl#>\n",
    "PREFIX meshv: <http://id.nlm.nih.gov/mesh/vocab#>\n",
    "PREFIX mesh: <http://id.nlm.nih.gov/mesh/>\n",
    "PREFIX mesh2015: <http://id.nlm.nih.gov/mesh/2015/>\n",
    "PREFIX mesh2016: <http://id.nlm.nih.gov/mesh/2016/>\n",
    "PREFIX mesh2017: <http://id.nlm.nih.gov/mesh/2017/>\n",
    "\n",
    " SELECT DISTINCT ?label ?annotation\n",
    " FROM <http://id.nlm.nih.gov/mesh>\n",
    "\n",
    " WHERE {\n",
    "   mesh:D015658 meshv:treeNumber ?treeNum .\n",
    "   ?childTreeNum meshv:parentTreeNumber+ ?treeNum .\n",
    "   ?descriptor meshv:treeNumber ?childTreeNum .\n",
    "   ?descriptor rdfs:label ?label .\n",
    "   ?descriptor meshv:annotation ?annotation\n",
    " }\n",
    " \n",
    " ORDER BY ?label\n",
    "LIMIT 10\n",
    "\n"
   ]
  },
  {
   "cell_type": "code",
   "execution_count": 8,
   "metadata": {},
   "outputs": [
    {
     "data": {
      "text/html": [
       "<div class=\"krn-spql\"><table><tr class=hdr><th>descriptor</th>\n",
       "<th>label</th></tr><tr class=odd><td class=val><a href=\"http://id.nlm.nih.gov/mesh/D000386\" target=\"_other\">http://id.nlm.nih.gov/mesh/D000386</a></td>\n",
       "<td class=val>AIDS-Related Complex</td></tr><tr class=even><td class=val><a href=\"http://id.nlm.nih.gov/mesh/D000163\" target=\"_other\">http://id.nlm.nih.gov/mesh/D000163</a></td>\n",
       "<td class=val>Acquired Immunodeficiency Syndrome</td></tr><tr class=odd><td class=val><a href=\"http://id.nlm.nih.gov/mesh/D000453\" target=\"_other\">http://id.nlm.nih.gov/mesh/D000453</a></td>\n",
       "<td class=val>Aleutian Mink Disease</td></tr><tr class=even><td class=val><a href=\"http://id.nlm.nih.gov/mesh/D004859\" target=\"_other\">http://id.nlm.nih.gov/mesh/D004859</a></td>\n",
       "<td class=val>Equine Infectious Anemia</td></tr><tr class=odd><td class=val><a href=\"http://id.nlm.nih.gov/mesh/D016181\" target=\"_other\">http://id.nlm.nih.gov/mesh/D016181</a></td>\n",
       "<td class=val>Feline Acquired Immunodeficiency Syndrome</td></tr><tr class=even><td class=val><a href=\"http://id.nlm.nih.gov/mesh/D007968\" target=\"_other\">http://id.nlm.nih.gov/mesh/D007968</a></td>\n",
       "<td class=val>Leukoencephalopathy, Progressive Multifocal</td></tr><tr class=odd><td class=val><a href=\"http://id.nlm.nih.gov/mesh/D011021\" target=\"_other\">http://id.nlm.nih.gov/mesh/D011021</a></td>\n",
       "<td class=val>Pneumonia, Progressive Interstitial, of Sheep</td></tr><tr class=even><td class=val><a href=\"http://id.nlm.nih.gov/mesh/D016097\" target=\"_other\">http://id.nlm.nih.gov/mesh/D016097</a></td>\n",
       "<td class=val>Simian Acquired Immunodeficiency Syndrome</td></tr><tr class=odd><td class=val><a href=\"http://id.nlm.nih.gov/mesh/D013344\" target=\"_other\">http://id.nlm.nih.gov/mesh/D013344</a></td>\n",
       "<td class=val>Subacute Sclerosing Panencephalitis</td></tr><tr class=even><td class=val><a href=\"http://id.nlm.nih.gov/mesh/D016182\" target=\"_other\">http://id.nlm.nih.gov/mesh/D016182</a></td>\n",
       "<td class=val>Visna</td></tr></table><div class=\"tinfo\">Total: 10, Shown: 10</div></div>"
      ]
     },
     "metadata": {},
     "output_type": "display_data"
    }
   ],
   "source": [
    "\n",
    "## Obter todas as doenças relacionadas a slow vírus \n",
    "PREFIX rdf: <http://www.w3.org/1999/02/22-rdf-syntax-ns#>\n",
    "PREFIX rdfs: <http://www.w3.org/2000/01/rdf-schema#>\n",
    "PREFIX xsd: <http://www.w3.org/2001/XMLSchema#>\n",
    "PREFIX owl: <http://www.w3.org/2002/07/owl#>\n",
    "PREFIX meshv: <http://id.nlm.nih.gov/mesh/vocab#>\n",
    "PREFIX mesh: <http://id.nlm.nih.gov/mesh/>\n",
    "PREFIX mesh2015: <http://id.nlm.nih.gov/mesh/2015/>\n",
    "PREFIX mesh2016: <http://id.nlm.nih.gov/mesh/2016/>\n",
    "PREFIX mesh2017: <http://id.nlm.nih.gov/mesh/2017/>\n",
    "\n",
    " SELECT DISTINCT ?descriptor ?label\n",
    " FROM <http://id.nlm.nih.gov/mesh>\n",
    "\n",
    " WHERE {\n",
    "   mesh:D012897 meshv:treeNumber ?treeNum .\n",
    "   ?childTreeNum meshv:parentTreeNumber+ ?treeNum .\n",
    "   ?descriptor meshv:treeNumber ?childTreeNum .\n",
    "   ?descriptor rdfs:label ?label .\n",
    " }\n",
    "\n",
    " \n",
    " ORDER BY ?label\n",
    "LIMIT 10\n"
   ]
  },
  {
   "cell_type": "code",
   "execution_count": 9,
   "metadata": {},
   "outputs": [
    {
     "data": {
      "text/html": [
       "<div class=\"krn-spql\"><table><tr class=hdr><th>descriptor</th>\n",
       "<th>label</th></tr><tr class=odd><td class=val><a href=\"http://id.nlm.nih.gov/mesh/D020943\" target=\"_other\">http://id.nlm.nih.gov/mesh/D020943</a></td>\n",
       "<td class=val>AIDS Arteritis, Central Nervous System</td></tr><tr class=even><td class=val><a href=\"http://id.nlm.nih.gov/mesh/D015526\" target=\"_other\">http://id.nlm.nih.gov/mesh/D015526</a></td>\n",
       "<td class=val>AIDS Dementia Complex</td></tr><tr class=odd><td class=val><a href=\"http://id.nlm.nih.gov/mesh/D016263\" target=\"_other\">http://id.nlm.nih.gov/mesh/D016263</a></td>\n",
       "<td class=val>AIDS-Associated Nephropathy</td></tr><tr class=even><td class=val><a href=\"http://id.nlm.nih.gov/mesh/D000386\" target=\"_other\">http://id.nlm.nih.gov/mesh/D000386</a></td>\n",
       "<td class=val>AIDS-Related Complex</td></tr><tr class=odd><td class=val><a href=\"http://id.nlm.nih.gov/mesh/D017088\" target=\"_other\">http://id.nlm.nih.gov/mesh/D017088</a></td>\n",
       "<td class=val>AIDS-Related Opportunistic Infections</td></tr><tr class=even><td class=val><a href=\"http://id.nlm.nih.gov/mesh/D000163\" target=\"_other\">http://id.nlm.nih.gov/mesh/D000163</a></td>\n",
       "<td class=val>Acquired Immunodeficiency Syndrome</td></tr><tr class=odd><td class=val><a href=\"http://id.nlm.nih.gov/mesh/D000071297\" target=\"_other\">http://id.nlm.nih.gov/mesh/D000071297</a></td>\n",
       "<td class=val>Acute Retroviral Syndrome</td></tr><tr class=even><td class=val><a href=\"http://id.nlm.nih.gov/mesh/D000361\" target=\"_other\">http://id.nlm.nih.gov/mesh/D000361</a></td>\n",
       "<td class=val>Agammaglobulinemia</td></tr><tr class=odd><td class=val><a href=\"http://id.nlm.nih.gov/mesh/D000453\" target=\"_other\">http://id.nlm.nih.gov/mesh/D000453</a></td>\n",
       "<td class=val>Aleutian Mink Disease</td></tr><tr class=even><td class=val><a href=\"http://id.nlm.nih.gov/mesh/D001260\" target=\"_other\">http://id.nlm.nih.gov/mesh/D001260</a></td>\n",
       "<td class=val>Ataxia Telangiectasia</td></tr></table><div class=\"tinfo\">Total: 10, Shown: 10</div></div>"
      ]
     },
     "metadata": {},
     "output_type": "display_data"
    }
   ],
   "source": [
    "## Obter todas as síndromes de deficiência imunológica\n",
    "PREFIX rdf: <http://www.w3.org/1999/02/22-rdf-syntax-ns#>\n",
    "PREFIX rdfs: <http://www.w3.org/2000/01/rdf-schema#>\n",
    "PREFIX xsd: <http://www.w3.org/2001/XMLSchema#>\n",
    "PREFIX owl: <http://www.w3.org/2002/07/owl#>\n",
    "PREFIX meshv: <http://id.nlm.nih.gov/mesh/vocab#>\n",
    "PREFIX mesh: <http://id.nlm.nih.gov/mesh/>\n",
    "PREFIX mesh2015: <http://id.nlm.nih.gov/mesh/2015/>\n",
    "PREFIX mesh2016: <http://id.nlm.nih.gov/mesh/2016/>\n",
    "PREFIX mesh2017: <http://id.nlm.nih.gov/mesh/2017/>\n",
    "\n",
    " SELECT DISTINCT ?descriptor ?label\n",
    " FROM <http://id.nlm.nih.gov/mesh>\n",
    "\n",
    " WHERE {\n",
    "   mesh:D007153 meshv:treeNumber ?treeNum .\n",
    "   ?childTreeNum meshv:parentTreeNumber+ ?treeNum .\n",
    "   ?descriptor meshv:treeNumber ?childTreeNum .\n",
    "   ?descriptor rdfs:label ?label .\n",
    " }\n",
    " \n",
    " ORDER BY ?label\n",
    "LIMIT 10"
   ]
  },
  {
   "cell_type": "markdown",
   "metadata": {},
   "source": [
    "# Consultas XML\n"
   ]
  },
  {
   "cell_type": "code",
   "execution_count": null,
   "metadata": {},
   "outputs": [],
   "source": [
    "Média de contagem VIRALLOAD\n",
    "let $root := doc('mydoc.xml')\n",
    "for $p in ($root)\n",
    "return avg($p//Paciente/VL-t0)\n",
    "    \n"
   ]
  },
  {
   "cell_type": "code",
   "execution_count": null,
   "metadata": {},
   "outputs": [],
   "source": [
    "Média de contagem cd4\n",
    "let $root := doc('mydoc.xml')\n",
    "for $p in ($root)\n",
    "return avg($p//Paciente/CD4-t0)\n"
   ]
  },
  {
   "cell_type": "code",
   "execution_count": null,
   "metadata": {},
   "outputs": [],
   "source": [
    "Pessoas que a contagem de cd4 menor que 50\n",
    "let $root := doc('mydoc.xml')\n",
    "for $p in ($root//Paciente)\n",
    "where $p[CD4-t0 <50]\n",
    "order by $p/PatientID\n",
    "return <cd4>{data($p/PatientID)}</cd4>\n"
   ]
  },
  {
   "cell_type": "code",
   "execution_count": null,
   "metadata": {},
   "outputs": [],
   "source": [
    "ID dos pacientes ainda doentes\n",
    "let $root := doc('mydoc.xml')\n",
    "for $p in ($root//Paciente)\n",
    "where $p[Resp=0]\n",
    "return <Doente>{data($p/PatientID)}</Doente>\n"
   ]
  },
  {
   "cell_type": "code",
   "execution_count": null,
   "metadata": {},
   "outputs": [],
   "source": [
    "Quantos pacientes responderam bem ao tratamento\n",
    "let $root := doc('mydoc.xml')\n",
    "for $p in ($root)\n",
    "return count($p//root//Paciente[Resp=0])\n"
   ]
  },
  {
   "cell_type": "code",
   "execution_count": null,
   "metadata": {},
   "outputs": [],
   "source": []
  }
 ],
 "metadata": {
  "kernelspec": {
   "display_name": "SPARQL",
   "language": "sparql",
   "name": "sparql"
  },
  "language_info": {
   "codemirror_mode": {
    "name": "sparql"
   },
   "mimetype": "application/sparql-query",
   "name": "sparql",
   "pygments_lexer": "sparql-nb"
  }
 },
 "nbformat": 4,
 "nbformat_minor": 2
}
